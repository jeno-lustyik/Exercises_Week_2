{
 "cells": [
  {
   "cell_type": "code",
   "execution_count": 1,
   "metadata": {
    "collapsed": true
   },
   "outputs": [],
   "source": [
    "import numpy as np"
   ]
  },
  {
   "cell_type": "markdown",
   "source": [
    "#### 72. How to swap two rows of an array? (★★★)"
   ],
   "metadata": {
    "collapsed": false
   }
  },
  {
   "cell_type": "code",
   "execution_count": 88,
   "outputs": [
    {
     "name": "stdout",
     "output_type": "stream",
     "text": [
      "[[1 2 3]\n",
      " [6 4 2]\n",
      " [2 4 6]\n",
      " [3 2 1]]\n"
     ]
    }
   ],
   "source": [
    "def change_rows(arr, row1, row2):\n",
    "    arr[[row1-1]], arr[[row2-1]] = arr[[row2-1]], arr[[row1-1]]\n",
    "    print(arr)\n",
    "\n",
    "arr = np.array([[1,2,3], [3,2,1], [2,4,6], [6,4,2]])\n",
    "change_rows(arr, 2, 4)"
   ],
   "metadata": {
    "collapsed": false,
    "pycharm": {
     "name": "#%%\n"
    }
   }
  },
  {
   "cell_type": "markdown",
   "source": [
    "#### 75. How to compute averages using a sliding window over an array? (★★★)"
   ],
   "metadata": {
    "collapsed": false
   }
  },
  {
   "cell_type": "code",
   "execution_count": 5,
   "outputs": [
    {
     "name": "stdout",
     "output_type": "stream",
     "text": [
      "[ 0  1  2  3  4  5  6  7  8  9 10 11 12 13 14 15 16 17 18 19]\n",
      "[  0   1   3   6  10  15  21  28  36  45  55  66  78  91 105 120 136 153\n",
      " 171 190]\n",
      "[ 6  9 12 15 18 21 24 27 30 33 36 39 42 45 48 51 54]\n",
      "[ 2.  3.  4.  5.  6.  7.  8.  9. 10. 11. 12. 13. 14. 15. 16. 17. 18.]\n"
     ]
    }
   ],
   "source": [
    "def sliding_average(array, n):\n",
    "    #define the size of the rolling window by n\n",
    "    s = np.cumsum(array)\n",
    "    print(s)\n",
    "    print(s[n:] - s[:-n])\n",
    "    return (s[n:] - s[:-n]) /n\n",
    "\n",
    "arr = np.arange(20)\n",
    "print(arr)\n",
    "print(sliding_average(arr, 3))"
   ],
   "metadata": {
    "collapsed": false,
    "pycharm": {
     "name": "#%%\n"
    }
   }
  }
 ],
 "metadata": {
  "kernelspec": {
   "display_name": "Python 3",
   "language": "python",
   "name": "python3"
  },
  "language_info": {
   "codemirror_mode": {
    "name": "ipython",
    "version": 2
   },
   "file_extension": ".py",
   "mimetype": "text/x-python",
   "name": "python",
   "nbconvert_exporter": "python",
   "pygments_lexer": "ipython2",
   "version": "2.7.6"
  }
 },
 "nbformat": 4,
 "nbformat_minor": 0
}
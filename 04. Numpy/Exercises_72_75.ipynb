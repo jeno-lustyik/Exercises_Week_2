{
 "cells": [
  {
   "cell_type": "code",
   "execution_count": 1,
   "metadata": {
    "collapsed": true
   },
   "outputs": [],
   "source": [
    "import numpy as np"
   ]
  },
  {
   "cell_type": "markdown",
   "source": [
    "#### 72. How to swap two rows of an array? (★★★)"
   ],
   "metadata": {
    "collapsed": false
   }
  },
  {
   "cell_type": "code",
   "execution_count": 6,
   "outputs": [
    {
     "name": "stdout",
     "output_type": "stream",
     "text": [
      "[[1 2 3]\n",
      " [3 2 1]\n",
      " [2 4 6]\n",
      " [6 4 2]]\n",
      "[[1 2 3]\n",
      " [6 4 2]\n",
      " [2 4 6]\n",
      " [3 2 1]]\n"
     ]
    }
   ],
   "source": [
    "def change_rows(arr, row1, row2):\n",
    "    arr[[row1-1]], arr[[row2-1]] = arr[[row2-1]], arr[[row1-1]]\n",
    "    print(arr)\n",
    "\n",
    "arr = np.array([[1,2,3], [3,2,1], [2,4,6], [6,4,2]])\n",
    "print(arr)\n",
    "change_rows(arr, 2, 4)"
   ],
   "metadata": {
    "collapsed": false,
    "pycharm": {
     "name": "#%%\n"
    }
   }
  },
  {
   "cell_type": "markdown",
   "source": [
    "#### 75. How to compute averages using a sliding window over an array? (★★★)"
   ],
   "metadata": {
    "collapsed": false
   }
  },
  {
   "cell_type": "code",
   "execution_count": 45,
   "outputs": [
    {
     "data": {
      "text/plain": "array([2.5, 3.5, 4.5, 5.5, 6.5, 7.5])"
     },
     "execution_count": 45,
     "metadata": {},
     "output_type": "execute_result"
    }
   ],
   "source": [
    "def sliding_average(array, n):\n",
    "    s = np.cumsum(array)\n",
    "    s[n:] = s[n:] - s[:-n]\n",
    "    return s[n:] / n\n",
    "\n",
    "arr = np.arange(10)\n",
    "sliding_average(arr, 4)"
   ],
   "metadata": {
    "collapsed": false,
    "pycharm": {
     "name": "#%%\n"
    }
   }
  }
 ],
 "metadata": {
  "kernelspec": {
   "display_name": "Python 3",
   "language": "python",
   "name": "python3"
  },
  "language_info": {
   "codemirror_mode": {
    "name": "ipython",
    "version": 2
   },
   "file_extension": ".py",
   "mimetype": "text/x-python",
   "name": "python",
   "nbconvert_exporter": "python",
   "pygments_lexer": "ipython2",
   "version": "2.7.6"
  }
 },
 "nbformat": 4,
 "nbformat_minor": 0
}